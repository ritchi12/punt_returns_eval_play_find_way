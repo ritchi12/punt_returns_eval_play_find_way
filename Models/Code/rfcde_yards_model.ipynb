{
 "cells": [
  {
   "cell_type": "code",
   "execution_count": null,
   "metadata": {
    "collapsed": true
   },
   "outputs": [],
   "source": [
    "#import sys\n",
    "#sys.executable\n",
    "#!/anaconda3/bin/python -m pip install rfcde==0.3.1"
   ]
  },
  {
   "cell_type": "code",
   "execution_count": 2,
   "metadata": {},
   "outputs": [],
   "source": [
    "import rfcde\n",
    "from matplotlib import pyplot as plt\n",
    "#from cdetools.cde_loss import cde_loss\n",
    "import numpy as np\n",
    "import pandas as pd \n",
    "\n",
    "import seaborn as sns\n",
    "import matplotlib.patches as patches\n",
    "\n",
    "from scipy.spatial import ConvexHull, convex_hull_plot_2d\n",
    "\n",
    "from shapely.geometry import Polygon\n",
    "from shapely.geometry import MultiPoint\n",
    "\n",
    "from sklearn.model_selection import train_test_split\n",
    "import itertools\n",
    "\n",
    "plt.rcParams[\"figure.figsize\"] = (10,8)"
   ]
  },
  {
   "cell_type": "code",
   "execution_count": 6,
   "metadata": {},
   "outputs": [],
   "source": [
    "df18 = pd.read_csv('modeldata2018.csv')\n",
    "df19 = pd.read_csv('modeldata2019.csv')\n",
    "df20 = pd.read_csv('modeldata_2020.csv')\n",
    "\n",
    "train = pd.concat([df18,df19], axis=0)\n",
    "test = df20"
   ]
  },
  {
   "cell_type": "code",
   "execution_count": 7,
   "metadata": {},
   "outputs": [],
   "source": [
    "train2 = pd.read_csv('train.csv')\n",
    "test2 = pd.read_csv('test.csv')"
   ]
  },
  {
   "cell_type": "code",
   "execution_count": 8,
   "metadata": {
    "collapsed": true
   },
   "outputs": [],
   "source": [
    "train2 = train2[['gameId', 'playId', 'frameId','prob_tackle' ]]\n",
    "train = train[['gameId', 'playId', 'frameId','kick_area','return_area','carrier_area','return_yds_remaining','path_frechet' ]]\n",
    "\n",
    "train_ = train.merge(train2, on = ['gameId', 'playId', 'frameId'])\n",
    "\n",
    "test2 = test2[['gameId', 'playId', 'frameId','prob_tackle' ]]\n",
    "test = test[['gameId', 'playId', 'frameId','kick_area','return_area','carrier_area','return_yds_remaining', 'path_frechet' ]]\n",
    "\n",
    "test_ = test.merge(test2, on = ['gameId', 'playId', 'frameId'])"
   ]
  },
  {
   "cell_type": "code",
   "execution_count": 9,
   "metadata": {
    "collapsed": true
   },
   "outputs": [],
   "source": [
    "train = train_[0:2000]\n",
    "#test = test[(test.gameId ==2019090500 )&(test.playId ==125)]\n",
    "test = test_\n",
    "\n",
    "z_train = train['return_yds_remaining'].values.reshape(-1,1)\n",
    "x_train = train[['kick_area','return_area','carrier_area', 'path_frechet'  ]].values\n",
    "\n",
    "\n",
    "z_test = test['return_yds_remaining'].values.reshape(-1,1)\n",
    "x_test = test[['kick_area','return_area','carrier_area', 'path_frechet' ]].values"
   ]
  },
  {
   "cell_type": "code",
   "execution_count": 11,
   "metadata": {
    "collapsed": true
   },
   "outputs": [],
   "source": [
    "n_trees = 100\n",
    "mtry = 1\n",
    "node_size = 1\n",
    "\n",
    "n_basis = 30\n",
    "basis_system = 'cosine'\n",
    "\n",
    "model = rfcde.RFCDE(n_trees=n_trees, mtry=mtry, node_size=node_size, n_basis=n_basis, \n",
    "                    basis_system=basis_system)\n",
    "\n",
    "model.train(x_train, z_train)"
   ]
  },
  {
   "cell_type": "code",
   "execution_count": 12,
   "metadata": {
    "collapsed": true
   },
   "outputs": [],
   "source": [
    "n_grid = int(len(x_test))\n",
    "bandwidth = 0.5\n",
    "z_grid = np.linspace(0, 100, n_grid)\n",
    "cde_test = model.predict(x_test, z_grid, bandwidth=bandwidth)"
   ]
  },
  {
   "cell_type": "code",
   "execution_count": 13,
   "metadata": {},
   "outputs": [
    {
     "data": {
      "text/plain": [
       "array([[0.02873534, 0.02877916, 0.02882271, ..., 0.        , 0.        ,\n",
       "        0.        ],\n",
       "       [0.02923711, 0.02927817, 0.02931895, ..., 0.        , 0.        ,\n",
       "        0.        ],\n",
       "       [0.02910983, 0.02915072, 0.02919132, ..., 0.        , 0.        ,\n",
       "        0.        ],\n",
       "       ...,\n",
       "       [0.11336539, 0.11358665, 0.11380764, ..., 0.        , 0.        ,\n",
       "        0.        ],\n",
       "       [0.11053778, 0.11074836, 0.11095849, ..., 0.        , 0.        ,\n",
       "        0.        ],\n",
       "       [0.10934277, 0.10954943, 0.10975562, ..., 0.        , 0.        ,\n",
       "        0.        ]])"
      ]
     },
     "execution_count": 13,
     "metadata": {},
     "output_type": "execute_result"
    }
   ],
   "source": [
    "cde_test"
   ]
  },
  {
   "cell_type": "code",
   "execution_count": 14,
   "metadata": {
    "collapsed": true
   },
   "outputs": [],
   "source": [
    "cond_mean = model.predict_mean(x_test)\n",
    "cond_median = model.predict_quantile(x_test, 0.5)\n",
    "cond_mode = z_grid[np.argmax(cde_test, axis=1)]"
   ]
  },
  {
   "cell_type": "code",
   "execution_count": 15,
   "metadata": {
    "collapsed": true
   },
   "outputs": [],
   "source": [
    "preds = pd.DataFrame(cond_mode)\n",
    "preds.columns = ['cond_mode']\n",
    "\n",
    "preds2 = pd.DataFrame(cond_median)\n",
    "preds2.columns = ['cond_median']"
   ]
  },
  {
   "cell_type": "code",
   "execution_count": 16,
   "metadata": {},
   "outputs": [
    {
     "data": {
      "text/html": [
       "<div>\n",
       "<style scoped>\n",
       "    .dataframe tbody tr th:only-of-type {\n",
       "        vertical-align: middle;\n",
       "    }\n",
       "\n",
       "    .dataframe tbody tr th {\n",
       "        vertical-align: top;\n",
       "    }\n",
       "\n",
       "    .dataframe thead th {\n",
       "        text-align: right;\n",
       "    }\n",
       "</style>\n",
       "<table border=\"1\" class=\"dataframe\">\n",
       "  <thead>\n",
       "    <tr style=\"text-align: right;\">\n",
       "      <th></th>\n",
       "      <th>cond_mode</th>\n",
       "    </tr>\n",
       "  </thead>\n",
       "  <tbody>\n",
       "    <tr>\n",
       "      <th>0</th>\n",
       "      <td>9.144489</td>\n",
       "    </tr>\n",
       "    <tr>\n",
       "      <th>1</th>\n",
       "      <td>9.162624</td>\n",
       "    </tr>\n",
       "    <tr>\n",
       "      <th>2</th>\n",
       "      <td>9.158090</td>\n",
       "    </tr>\n",
       "    <tr>\n",
       "      <th>3</th>\n",
       "      <td>9.144489</td>\n",
       "    </tr>\n",
       "    <tr>\n",
       "      <th>4</th>\n",
       "      <td>9.121821</td>\n",
       "    </tr>\n",
       "    <tr>\n",
       "      <th>...</th>\n",
       "      <td>...</td>\n",
       "    </tr>\n",
       "    <tr>\n",
       "      <th>22053</th>\n",
       "      <td>0.729927</td>\n",
       "    </tr>\n",
       "    <tr>\n",
       "      <th>22054</th>\n",
       "      <td>0.743528</td>\n",
       "    </tr>\n",
       "    <tr>\n",
       "      <th>22055</th>\n",
       "      <td>0.743528</td>\n",
       "    </tr>\n",
       "    <tr>\n",
       "      <th>22056</th>\n",
       "      <td>0.729927</td>\n",
       "    </tr>\n",
       "    <tr>\n",
       "      <th>22057</th>\n",
       "      <td>0.729927</td>\n",
       "    </tr>\n",
       "  </tbody>\n",
       "</table>\n",
       "<p>22058 rows × 1 columns</p>\n",
       "</div>"
      ],
      "text/plain": [
       "       cond_mode\n",
       "0       9.144489\n",
       "1       9.162624\n",
       "2       9.158090\n",
       "3       9.144489\n",
       "4       9.121821\n",
       "...          ...\n",
       "22053   0.729927\n",
       "22054   0.743528\n",
       "22055   0.743528\n",
       "22056   0.729927\n",
       "22057   0.729927\n",
       "\n",
       "[22058 rows x 1 columns]"
      ]
     },
     "execution_count": 16,
     "metadata": {},
     "output_type": "execute_result"
    }
   ],
   "source": [
    "preds"
   ]
  },
  {
   "cell_type": "code",
   "execution_count": 19,
   "metadata": {},
   "outputs": [],
   "source": [
    "df = pd.concat([test, preds, preds2], axis=1)\n",
    "\n",
    "df.to_csv('results.csv')"
   ]
  },
  {
   "cell_type": "code",
   "execution_count": 22,
   "metadata": {
    "collapsed": true
   },
   "outputs": [],
   "source": [
    "df['diff'] = df['return_yds_remaining'] - df['cond_median']"
   ]
  },
  {
   "cell_type": "code",
   "execution_count": 29,
   "metadata": {},
   "outputs": [],
   "source": [
    "gb = df.groupby(['gameId', 'playId'])['diff'].sum().reset_index(name='total_diff')"
   ]
  },
  {
   "cell_type": "code",
   "execution_count": 54,
   "metadata": {},
   "outputs": [
    {
     "name": "stdout",
     "output_type": "stream",
     "text": [
      "37.32659839835031\n",
      "-2.395970761079905\n",
      "5.153201634086938\n"
     ]
    }
   ],
   "source": [
    "print(np.mean(df[(df.return_yds_remaining > 30)].groupby(['playId'])['diff'].mean()))\n",
    "print(np.mean(df[(df.return_yds_remaining > 0)&(df.return_yds_remaining < 10)].groupby(['playId'])['diff'].mean()))\n",
    "print(np.mean(df[(df.return_yds_remaining > 10)&(df.return_yds_remaining < 20)].groupby(['playId'])['diff'].mean()))\n",
    "\n",
    "\n",
    "\n"
   ]
  },
  {
   "cell_type": "code",
   "execution_count": 50,
   "metadata": {},
   "outputs": [
    {
     "data": {
      "text/plain": [
       "-1.2145648956264359"
      ]
     },
     "execution_count": 50,
     "metadata": {},
     "output_type": "execute_result"
    }
   ],
   "source": [
    "np.mean(df[(df.return_yds_remaining > 0)&(df.return_yds_remaining < 10)].groupby(['playId'])['diff'].sum()/len(df[(df.return_yds_remaining > 20)&(df.return_yds_remaining < 30)].groupby(['playId'])['diff'].sum()))\n"
   ]
  },
  {
   "cell_type": "code",
   "execution_count": 57,
   "metadata": {},
   "outputs": [
    {
     "name": "stdout",
     "output_type": "stream",
     "text": [
      "-0.28811211289497357\n"
     ]
    }
   ],
   "source": [
    "print(np.mean(df.groupby(['playId'])['diff'].mean()))\n"
   ]
  },
  {
   "cell_type": "code",
   "execution_count": null,
   "metadata": {
    "collapsed": true
   },
   "outputs": [],
   "source": []
  },
  {
   "cell_type": "code",
   "execution_count": null,
   "metadata": {
    "collapsed": true
   },
   "outputs": [],
   "source": []
  },
  {
   "cell_type": "code",
   "execution_count": null,
   "metadata": {
    "collapsed": true
   },
   "outputs": [],
   "source": []
  },
  {
   "cell_type": "code",
   "execution_count": null,
   "metadata": {
    "collapsed": true
   },
   "outputs": [],
   "source": []
  }
 ],
 "metadata": {
  "kernelspec": {
   "display_name": "Python 3",
   "language": "python",
   "name": "python3"
  },
  "language_info": {
   "codemirror_mode": {
    "name": "ipython",
    "version": 3
   },
   "file_extension": ".py",
   "mimetype": "text/x-python",
   "name": "python",
   "nbconvert_exporter": "python",
   "pygments_lexer": "ipython3",
   "version": "3.6.3"
  }
 },
 "nbformat": 4,
 "nbformat_minor": 2
}
